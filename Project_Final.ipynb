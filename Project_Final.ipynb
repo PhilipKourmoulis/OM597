{
 "cells": [
  {
   "cell_type": "markdown",
   "metadata": {
    "tags": []
   },
   "source": [
    "# Model Training"
   ]
  },
  {
   "cell_type": "code",
   "execution_count": null,
   "metadata": {},
   "outputs": [],
   "source": [
    "# Standard library imports\n",
    "import joblib\n",
    "import json\n",
    "import pathlib\n",
    "import warnings\n",
    "import sklearn\n",
    "warnings.filterwarnings(\"ignore\")\n",
    "\n",
    "# Third-party library imports\n",
    "import numpy as np\n",
    "import pandas as pd\n",
    "from sklearn.ensemble import RandomForestClassifier\n",
    "from sklearn.model_selection import train_test_split, GridSearchCV\n",
    "from sklearn.preprocessing import StandardScaler\n",
    "from sklearn.naive_bayes import GaussianNB\n",
    "from sklearn.metrics import confusion_matrix, ConfusionMatrixDisplay\n",
    "from sklearn.ensemble import AdaBoostClassifier \n",
    "from sklearn.linear_model import LogisticRegression\n",
    "from sklearn.ensemble import VotingClassifier\n",
    "\n",
    "# Read data\n",
    "data_filepath = pathlib.Path('train.csv')\n",
    "data = pd.read_csv(data_filepath)\n",
    "\n",
    "# Create \"dummy\" columns for categorical data\n",
    "dummy_column_mapper = {}\n",
    "for col in data.columns:\n",
    "    if data[col].dtype == 'object':\n",
    "        temp = pd.get_dummies(data[col], prefix=col, drop_first=True)\n",
    "        data = data.drop(columns=[col])\n",
    "        data[temp.columns] = temp\n",
    "        dummy_column_mapper[col] = temp.columns.tolist()\n",
    "\n",
    "# Save mapper for dummy columns\n",
    "with open('dummy_column_mapper.json', 'w') as fout:\n",
    "    json.dump(dummy_column_mapper, fout)\n",
    "\n",
    "# Prepare data for model training\n",
    "target = 'Exited'\n",
    "features = [col for col in data.columns if col != target]\n",
    "binary_columns = [col for col in features if sorted(data[col].unique().tolist()) == [0, 1]]\n",
    "\n",
    "X = data[features].copy()\n",
    "y = data[target]\n",
    "\n",
    "X_train, X_test, y_train, y_test = train_test_split(\n",
    "    X, \n",
    "    y, \n",
    "    test_size=0.30, \n",
    "    random_state=69,\n",
    ")\n",
    "\n",
    "# Save column order of training data\n",
    "with open('col_order.json', 'w') as fout:\n",
    "    json.dump(X_train.columns.tolist(), fout)\n",
    "\n",
    "# Fit scaler\n",
    "scaler = StandardScaler()\n",
    "scaler = scaler.fit(X_train)\n",
    "\n",
    "# Save scaling information\n",
    "scaler_filepath = pathlib.Path('scaler_info.json')\n",
    "\n",
    "scaler_dict  = {}\n",
    "for feature, mean, scale in zip(features, scaler.mean_, scaler.scale_):\n",
    "    if feature in binary_columns:\n",
    "        scaler_dict[feature] = {\n",
    "            'mean': 0,\n",
    "            'std': 1,\n",
    "        }\n",
    "    else:\n",
    "        scaler_dict[feature] = {\n",
    "            'mean': mean,\n",
    "            'std': scale,\n",
    "        }\n",
    "        \n",
    "with open(scaler_filepath, 'w') as fout:\n",
    "    json.dump(scaler_dict, fout)\n",
    "    \n",
    "# Scale data\n",
    "for col, col_params in scaler_dict.items():\n",
    "    X_train.loc[:, col] = (X_train.loc[:, col] - col_params['mean'])/col_params['std']\n",
    "    X_test.loc[:, col] = (X_test.loc[:, col] - col_params['mean'])/col_params['std']\n",
    "\n",
    "#Random Forest\n",
    "from sklearn.ensemble import RandomForestClassifier\n",
    "\n",
    "params = {\n",
    "    'criterion': ['gini','entropy'], \n",
    "    'max_depth': [2, 5, 10], \n",
    "    'n_estimators': [15, 100], \n",
    "    'max_features':[3,5,10],\n",
    "}\n",
    "\n",
    "\n",
    "rclf = GridSearchCV(RandomForestClassifier(random_state=0), params, error_score=0)\n",
    "search = rclf.fit(X_train, y_train)\n",
    "rclf_best_params = search.best_params_ \n",
    "rclf_best_params\n",
    "\n",
    "rclf = RandomForestClassifier(oob_score=True, random_state=0, **rclf_best_params)\n",
    "rf_model = rclf.fit(X_train, y_train) \n",
    "rf_model.score(X_test, y_test)\n",
    "\n",
    "#Gaussian\n",
    "gnb = GaussianNB()\n",
    "gclf = gnb.fit(X_train, y_train)\n",
    "\n",
    "#Logistic Regression\n",
    "lclf = LogisticRegression(random_state=0).fit(X_train, y_train)\n",
    "lclf.score(X_test, y_test)\n",
    "\n",
    "\n",
    "\n",
    "# Save model\n",
    "joblib.dump(rf_model, 'rf_model.joblib')"
   ]
  },
  {
   "cell_type": "markdown",
   "metadata": {},
   "source": [
    "# Simulating deployment"
   ]
  },
  {
   "cell_type": "code",
   "execution_count": null,
   "metadata": {},
   "outputs": [],
   "source": [
    "new_data = pd.read_csv(data_filepath)\n",
    "\n",
    "ckey = 0\n",
    "raw_payload = new_data.loc[ckey].to_dict()\n",
    "target = raw_payload.pop('Exited')\n",
    "\n",
    "raw_payload"
   ]
  },
  {
   "cell_type": "code",
   "execution_count": null,
   "metadata": {},
   "outputs": [],
   "source": [
    "with open('dummy_column_mapper.json') as fin:\n",
    "    dummy_column_mapper = json.load(fin)\n",
    "    \n",
    "with open('scaler_info.json') as fin:\n",
    "    scaler_info = json.load(fin)\n",
    "    \n",
    "with open('col_order.json') as fin:\n",
    "    col_order = json.load(fin)\n",
    "    \n",
    "payload = dict(raw_payload)\n",
    "for column, dummy_columns in dummy_column_mapper.items():\n",
    "    for dummy_column in dummy_columns:\n",
    "        payload[dummy_column] = 0\n",
    "    if column in payload:\n",
    "        column_val = payload.pop(column)\n",
    "        target_column = f'{column}_{column_val}'\n",
    "        payload[target_column] = 1\n",
    "        \n",
    "for key, scaler_params in scaler_info.items():\n",
    "    if key in payload:\n",
    "        payload[key] = (payload[key] - scaler_params['mean'])/scaler_params['std']\n",
    "    else:\n",
    "        payload[key] = scaler_params['mean']\n",
    "        \n",
    "ordered_payload = {}\n",
    "for col in col_order:\n",
    "    ordered_payload[col] = payload[col]\n",
    "    \n",
    "prediction = int(rclf.predict(np.array(list(ordered_payload.values())).reshape(1, -1)))"
   ]
  },
  {
   "cell_type": "code",
   "execution_count": null,
   "metadata": {},
   "outputs": [],
   "source": [
    "prediction"
   ]
  },
  {
   "cell_type": "code",
   "execution_count": null,
   "metadata": {},
   "outputs": [],
   "source": [
    "import requests"
   ]
  },
  {
   "cell_type": "code",
   "execution_count": null,
   "metadata": {},
   "outputs": [],
   "source": [
    "base_endpoint = 'https://msba-azure-deployment.azurewebsites.net/'"
   ]
  },
  {
   "cell_type": "code",
   "execution_count": null,
   "metadata": {},
   "outputs": [],
   "source": [
    "r = requests.get(base_endpoint)\n",
    "r.text"
   ]
  },
  {
   "cell_type": "code",
   "execution_count": null,
   "metadata": {},
   "outputs": [],
   "source": [
    "predict_endpoint = 'https://msba-azure-deployment.azurewebsites.net/predict'"
   ]
  },
  {
   "cell_type": "code",
   "execution_count": null,
   "metadata": {},
   "outputs": [],
   "source": [
    "r = requests.post(predict_endpoint, json=raw_payload)\n",
    "int(r.text)"
   ]
  },
  {
   "cell_type": "code",
   "execution_count": null,
   "metadata": {},
   "outputs": [],
   "source": [
    "new_data = pd.read_csv(data_filepath)\n",
    "\n",
    "for ckey in new_data.index.tolist()[:100]:\n",
    "    raw_payload = new_data.loc[ckey].to_dict()\n",
    "    target = raw_payload.pop('Exited')\n",
    "    \n",
    "    r = requests.post(predict_endpoint, json=raw_payload)\n",
    "    prediction = int(r.text)\n",
    "    if prediction == target:\n",
    "        correct_statement = 'Correct!!!'\n",
    "    else:\n",
    "        correct_statement = ''\n",
    "\n",
    "    print(f'Instance {ckey}: actual->{target}, prediction->{prediction}. {correct_statement}')"
   ]
  },
  {
   "cell_type": "code",
   "execution_count": null,
   "metadata": {},
   "outputs": [],
   "source": [
    "import matplotlib.pyplot as plt"
   ]
  },
  {
   "cell_type": "code",
   "execution_count": null,
   "metadata": {},
   "outputs": [],
   "source": [
    "rf_model.predict_proba(X_test)[:10]"
   ]
  },
  {
   "cell_type": "code",
   "execution_count": null,
   "metadata": {},
   "outputs": [],
   "source": [
    "rf_model.score(X_test, y_test)"
   ]
  },
  {
   "cell_type": "code",
   "execution_count": null,
   "metadata": {},
   "outputs": [],
   "source": [
    "rclf_best_params"
   ]
  },
  {
   "cell_type": "code",
   "execution_count": null,
   "metadata": {},
   "outputs": [],
   "source": [
    "gclf.score(X_test, y_test)"
   ]
  },
  {
   "cell_type": "code",
   "execution_count": null,
   "metadata": {},
   "outputs": [],
   "source": [
    "lclf.score(X_test, y_test)"
   ]
  },
  {
   "cell_type": "markdown",
   "metadata": {},
   "source": [
    "Ensemble"
   ]
  },
  {
   "cell_type": "code",
   "execution_count": null,
   "metadata": {},
   "outputs": [],
   "source": [
    "scores = [lclf.score(X_test, y_test), rclf.score(X_test, y_test),gclf.score(X_test, y_test)]\n",
    "proportions = []\n",
    "sum_scores = sum(scores)\n",
    "for score in scores:\n",
    "    proportions.append(score/sum_scores)"
   ]
  },
  {
   "cell_type": "code",
   "execution_count": null,
   "metadata": {},
   "outputs": [],
   "source": [
    "proportions"
   ]
  },
  {
   "cell_type": "code",
   "execution_count": null,
   "metadata": {},
   "outputs": [],
   "source": [
    "from sklearn.ensemble import VotingClassifier"
   ]
  },
  {
   "cell_type": "code",
   "execution_count": null,
   "metadata": {},
   "outputs": [],
   "source": [
    "print(f'Fitting Voting Classifier')\n",
    "params = {\n",
    "    'voting': ['hard', 'soft'],\n",
    "    'weights': [proportions],\n",
    "}    \n",
    "\n",
    "eclf = VotingClassifier(\n",
    "    estimators=[('rf', rclf), ('lr', lclf), ('gm' , gclf)], \n",
    ")\n",
    "\n",
    "print('finding best params')\n",
    "clf = GridSearchCV(eclf, params, error_score=0)\n",
    "search = clf.fit(X_train, y_train)\n",
    "best_params = search.best_params_ \n",
    "best_params"
   ]
  },
  {
   "cell_type": "code",
   "execution_count": null,
   "metadata": {},
   "outputs": [],
   "source": [
    "print('Doing vote')\n",
    "eclf = VotingClassifier(\n",
    "    estimators=[('rf', rclf), ('lr', lclf), ('gm' , gclf)], \n",
    "    **best_params\n",
    ")\n",
    "\n",
    "eclf = eclf.fit(X_train, y_train)\n",
    "eclf.score(X_test, y_test)"
   ]
  },
  {
   "cell_type": "code",
   "execution_count": null,
   "metadata": {},
   "outputs": [],
   "source": []
  }
 ],
 "metadata": {
  "kernelspec": {
   "display_name": "Python 3 (ipykernel)",
   "language": "python",
   "name": "python3"
  },
  "language_info": {
   "codemirror_mode": {
    "name": "ipython",
    "version": 3
   },
   "file_extension": ".py",
   "mimetype": "text/x-python",
   "name": "python",
   "nbconvert_exporter": "python",
   "pygments_lexer": "ipython3",
   "version": "3.8.12"
  }
 },
 "nbformat": 4,
 "nbformat_minor": 4
}
