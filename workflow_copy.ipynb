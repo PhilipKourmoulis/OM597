{
 "cells": [
  {
   "cell_type": "markdown",
   "metadata": {
    "tags": []
   },
   "source": [
    "# Model Training"
   ]
  },
  {
   "cell_type": "code",
   "execution_count": 32,
   "metadata": {},
   "outputs": [
    {
     "data": {
      "text/plain": [
       "['gclf_model.joblib']"
      ]
     },
     "execution_count": 32,
     "metadata": {},
     "output_type": "execute_result"
    }
   ],
   "source": [
    "# Standard library imports\n",
    "import joblib\n",
    "import json\n",
    "import pathlib\n",
    "import warnings\n",
    "warnings.filterwarnings(\"ignore\")\n",
    "\n",
    "# Third-party library imports\n",
    "import numpy as np\n",
    "import pandas as pd\n",
    "from sklearn.ensemble import RandomForestClassifier\n",
    "from sklearn.model_selection import train_test_split, GridSearchCV\n",
    "from sklearn.preprocessing import StandardScaler\n",
    "from sklearn.naive_bayes import GaussianNB\n",
    "from sklearn.metrics import confusion_matrix, ConfusionMatrixDisplay\n",
    "\n",
    "# Read data\n",
    "data_filepath = pathlib.Path('train.csv')\n",
    "data = pd.read_csv(data_filepath)\n",
    "\n",
    "# Create \"dummy\" columns for categorical data\n",
    "dummy_column_mapper = {}\n",
    "for col in data.columns:\n",
    "    if data[col].dtype == 'object':\n",
    "        temp = pd.get_dummies(data[col], prefix=col, drop_first=True)\n",
    "        data = data.drop(columns=[col])\n",
    "        data[temp.columns] = temp\n",
    "        dummy_column_mapper[col] = temp.columns.tolist()\n",
    "\n",
    "# Save mapper for dummy columns\n",
    "with open('dummy_column_mapper.json', 'w') as fout:\n",
    "    json.dump(dummy_column_mapper, fout)\n",
    "\n",
    "# Prepare data for model training\n",
    "target = 'Exited'\n",
    "features = [col for col in data.columns if col != target]\n",
    "binary_columns = [col for col in features if sorted(data[col].unique().tolist()) == [0, 1]]\n",
    "\n",
    "X = data[features].copy()\n",
    "y = data[target]\n",
    "\n",
    "X_train, X_test, y_train, y_test = train_test_split(\n",
    "    X, \n",
    "    y, \n",
    "    test_size=0.30, \n",
    "    random_state=69,\n",
    ")\n",
    "\n",
    "# Save column order of training data\n",
    "with open('col_order.json', 'w') as fout:\n",
    "    json.dump(X_train.columns.tolist(), fout)\n",
    "\n",
    "# Fit scaler\n",
    "scaler = StandardScaler()\n",
    "scaler = scaler.fit(X_train)\n",
    "\n",
    "# Save scaling information\n",
    "scaler_filepath = pathlib.Path('scaler_info.json')\n",
    "\n",
    "scaler_dict  = {}\n",
    "for feature, mean, scale in zip(features, scaler.mean_, scaler.scale_):\n",
    "    if feature in binary_columns:\n",
    "        scaler_dict[feature] = {\n",
    "            'mean': 0,\n",
    "            'std': 1,\n",
    "        }\n",
    "    else:\n",
    "        scaler_dict[feature] = {\n",
    "            'mean': mean,\n",
    "            'std': scale,\n",
    "        }\n",
    "        \n",
    "with open(scaler_filepath, 'w') as fout:\n",
    "    json.dump(scaler_dict, fout)\n",
    "    \n",
    "# Scale data\n",
    "for col, col_params in scaler_dict.items():\n",
    "    X_train.loc[:, col] = (X_train.loc[:, col] - col_params['mean'])/col_params['std']\n",
    "    X_test.loc[:, col] = (X_test.loc[:, col] - col_params['mean'])/col_params['std']\n",
    "\n",
    "# Fit random forest model\n",
    "from sklearn.ensemble import RandomForestClassifier\n",
    "\n",
    "params = {\n",
    "    'criterion': ['gini', 'entropy'], \n",
    "    'max_depth': [2, 5, 10], \n",
    "    'n_estimators': [10, 100], \n",
    "}\n",
    "\n",
    "\n",
    "rclf = GridSearchCV(RandomForestClassifier(random_state=0), params, error_score=0)\n",
    "search = rclf.fit(X_train, y_train)\n",
    "best_params = search.best_params_ \n",
    "best_params\n",
    "\n",
    "rclf = RandomForestClassifier(random_state=0, **best_params)\n",
    "rclf = rclf.fit(X_train, y_train) \n",
    "rclf.score(X_test, y_test)\n",
    "\n",
    "gnb = GaussianNB()\n",
    "gclf = gnb.fit(X_train, y_train)\n",
    "\n",
    "\n",
    "# Save model\n",
    "joblib.dump(gclf, 'gclf_model.joblib')"
   ]
  },
  {
   "cell_type": "code",
   "execution_count": 33,
   "metadata": {},
   "outputs": [
    {
     "data": {
      "text/html": [
       "<div>\n",
       "<style scoped>\n",
       "    .dataframe tbody tr th:only-of-type {\n",
       "        vertical-align: middle;\n",
       "    }\n",
       "\n",
       "    .dataframe tbody tr th {\n",
       "        vertical-align: top;\n",
       "    }\n",
       "\n",
       "    .dataframe thead th {\n",
       "        text-align: right;\n",
       "    }\n",
       "</style>\n",
       "<table border=\"1\" class=\"dataframe\">\n",
       "  <thead>\n",
       "    <tr style=\"text-align: right;\">\n",
       "      <th></th>\n",
       "      <th>CreditScore</th>\n",
       "      <th>Age</th>\n",
       "      <th>Tenure</th>\n",
       "      <th>Balance</th>\n",
       "      <th>NumOfProducts</th>\n",
       "      <th>HasCrCard</th>\n",
       "      <th>IsActiveMember</th>\n",
       "      <th>EstimatedSalary</th>\n",
       "      <th>Geography_Germany</th>\n",
       "      <th>Geography_Spain</th>\n",
       "      <th>Gender_Male</th>\n",
       "    </tr>\n",
       "  </thead>\n",
       "  <tbody>\n",
       "    <tr>\n",
       "      <th>6818</th>\n",
       "      <td>0.486367</td>\n",
       "      <td>-1.139297</td>\n",
       "      <td>1.035488</td>\n",
       "      <td>1.043125</td>\n",
       "      <td>0.803623</td>\n",
       "      <td>1.0</td>\n",
       "      <td>0.0</td>\n",
       "      <td>-0.167992</td>\n",
       "      <td>0.0</td>\n",
       "      <td>0.0</td>\n",
       "      <td>1.0</td>\n",
       "    </tr>\n",
       "    <tr>\n",
       "      <th>476</th>\n",
       "      <td>-0.041641</td>\n",
       "      <td>0.011293</td>\n",
       "      <td>1.381842</td>\n",
       "      <td>0.568613</td>\n",
       "      <td>-0.917828</td>\n",
       "      <td>1.0</td>\n",
       "      <td>1.0</td>\n",
       "      <td>-1.207336</td>\n",
       "      <td>1.0</td>\n",
       "      <td>0.0</td>\n",
       "      <td>1.0</td>\n",
       "    </tr>\n",
       "    <tr>\n",
       "      <th>2117</th>\n",
       "      <td>0.879785</td>\n",
       "      <td>0.011293</td>\n",
       "      <td>-1.388988</td>\n",
       "      <td>-0.250791</td>\n",
       "      <td>-0.917828</td>\n",
       "      <td>1.0</td>\n",
       "      <td>0.0</td>\n",
       "      <td>-1.044089</td>\n",
       "      <td>0.0</td>\n",
       "      <td>1.0</td>\n",
       "      <td>1.0</td>\n",
       "    </tr>\n",
       "    <tr>\n",
       "      <th>2352</th>\n",
       "      <td>0.331071</td>\n",
       "      <td>1.257766</td>\n",
       "      <td>-0.003573</td>\n",
       "      <td>0.586155</td>\n",
       "      <td>-0.917828</td>\n",
       "      <td>1.0</td>\n",
       "      <td>0.0</td>\n",
       "      <td>-1.376987</td>\n",
       "      <td>0.0</td>\n",
       "      <td>0.0</td>\n",
       "      <td>0.0</td>\n",
       "    </tr>\n",
       "    <tr>\n",
       "      <th>4312</th>\n",
       "      <td>0.848726</td>\n",
       "      <td>0.298941</td>\n",
       "      <td>1.381842</td>\n",
       "      <td>0.523380</td>\n",
       "      <td>0.803623</td>\n",
       "      <td>1.0</td>\n",
       "      <td>1.0</td>\n",
       "      <td>-0.607507</td>\n",
       "      <td>1.0</td>\n",
       "      <td>0.0</td>\n",
       "      <td>1.0</td>\n",
       "    </tr>\n",
       "    <tr>\n",
       "      <th>...</th>\n",
       "      <td>...</td>\n",
       "      <td>...</td>\n",
       "      <td>...</td>\n",
       "      <td>...</td>\n",
       "      <td>...</td>\n",
       "      <td>...</td>\n",
       "      <td>...</td>\n",
       "      <td>...</td>\n",
       "      <td>...</td>\n",
       "      <td>...</td>\n",
       "      <td>...</td>\n",
       "    </tr>\n",
       "    <tr>\n",
       "      <th>4374</th>\n",
       "      <td>-0.020935</td>\n",
       "      <td>-0.276354</td>\n",
       "      <td>1.035488</td>\n",
       "      <td>1.134664</td>\n",
       "      <td>0.803623</td>\n",
       "      <td>1.0</td>\n",
       "      <td>1.0</td>\n",
       "      <td>0.518212</td>\n",
       "      <td>0.0</td>\n",
       "      <td>1.0</td>\n",
       "      <td>1.0</td>\n",
       "    </tr>\n",
       "    <tr>\n",
       "      <th>8631</th>\n",
       "      <td>-2.277910</td>\n",
       "      <td>-0.755767</td>\n",
       "      <td>-0.003573</td>\n",
       "      <td>-1.217043</td>\n",
       "      <td>-0.917828</td>\n",
       "      <td>1.0</td>\n",
       "      <td>0.0</td>\n",
       "      <td>-0.079908</td>\n",
       "      <td>0.0</td>\n",
       "      <td>0.0</td>\n",
       "      <td>1.0</td>\n",
       "    </tr>\n",
       "    <tr>\n",
       "      <th>9818</th>\n",
       "      <td>-0.611061</td>\n",
       "      <td>-0.468119</td>\n",
       "      <td>-0.696281</td>\n",
       "      <td>0.321395</td>\n",
       "      <td>-0.917828</td>\n",
       "      <td>0.0</td>\n",
       "      <td>0.0</td>\n",
       "      <td>-1.205013</td>\n",
       "      <td>0.0</td>\n",
       "      <td>0.0</td>\n",
       "      <td>0.0</td>\n",
       "    </tr>\n",
       "    <tr>\n",
       "      <th>4041</th>\n",
       "      <td>0.082596</td>\n",
       "      <td>-0.276354</td>\n",
       "      <td>-1.388988</td>\n",
       "      <td>-1.217043</td>\n",
       "      <td>0.803623</td>\n",
       "      <td>0.0</td>\n",
       "      <td>1.0</td>\n",
       "      <td>-0.266507</td>\n",
       "      <td>0.0</td>\n",
       "      <td>1.0</td>\n",
       "      <td>1.0</td>\n",
       "    </tr>\n",
       "    <tr>\n",
       "      <th>7371</th>\n",
       "      <td>-1.615312</td>\n",
       "      <td>0.107176</td>\n",
       "      <td>0.689134</td>\n",
       "      <td>-1.217043</td>\n",
       "      <td>0.803623</td>\n",
       "      <td>0.0</td>\n",
       "      <td>1.0</td>\n",
       "      <td>1.005773</td>\n",
       "      <td>0.0</td>\n",
       "      <td>0.0</td>\n",
       "      <td>1.0</td>\n",
       "    </tr>\n",
       "  </tbody>\n",
       "</table>\n",
       "<p>6979 rows × 11 columns</p>\n",
       "</div>"
      ],
      "text/plain": [
       "      CreditScore       Age    Tenure   Balance  NumOfProducts  HasCrCard  \\\n",
       "6818     0.486367 -1.139297  1.035488  1.043125       0.803623        1.0   \n",
       "476     -0.041641  0.011293  1.381842  0.568613      -0.917828        1.0   \n",
       "2117     0.879785  0.011293 -1.388988 -0.250791      -0.917828        1.0   \n",
       "2352     0.331071  1.257766 -0.003573  0.586155      -0.917828        1.0   \n",
       "4312     0.848726  0.298941  1.381842  0.523380       0.803623        1.0   \n",
       "...           ...       ...       ...       ...            ...        ...   \n",
       "4374    -0.020935 -0.276354  1.035488  1.134664       0.803623        1.0   \n",
       "8631    -2.277910 -0.755767 -0.003573 -1.217043      -0.917828        1.0   \n",
       "9818    -0.611061 -0.468119 -0.696281  0.321395      -0.917828        0.0   \n",
       "4041     0.082596 -0.276354 -1.388988 -1.217043       0.803623        0.0   \n",
       "7371    -1.615312  0.107176  0.689134 -1.217043       0.803623        0.0   \n",
       "\n",
       "      IsActiveMember  EstimatedSalary  Geography_Germany  Geography_Spain  \\\n",
       "6818             0.0        -0.167992                0.0              0.0   \n",
       "476              1.0        -1.207336                1.0              0.0   \n",
       "2117             0.0        -1.044089                0.0              1.0   \n",
       "2352             0.0        -1.376987                0.0              0.0   \n",
       "4312             1.0        -0.607507                1.0              0.0   \n",
       "...              ...              ...                ...              ...   \n",
       "4374             1.0         0.518212                0.0              1.0   \n",
       "8631             0.0        -0.079908                0.0              0.0   \n",
       "9818             0.0        -1.205013                0.0              0.0   \n",
       "4041             1.0        -0.266507                0.0              1.0   \n",
       "7371             1.0         1.005773                0.0              0.0   \n",
       "\n",
       "      Gender_Male  \n",
       "6818          1.0  \n",
       "476           1.0  \n",
       "2117          1.0  \n",
       "2352          0.0  \n",
       "4312          1.0  \n",
       "...           ...  \n",
       "4374          1.0  \n",
       "8631          1.0  \n",
       "9818          0.0  \n",
       "4041          1.0  \n",
       "7371          1.0  \n",
       "\n",
       "[6979 rows x 11 columns]"
      ]
     },
     "execution_count": 33,
     "metadata": {},
     "output_type": "execute_result"
    }
   ],
   "source": [
    "X_train"
   ]
  },
  {
   "cell_type": "markdown",
   "metadata": {},
   "source": [
    "# Simulating deployment"
   ]
  },
  {
   "cell_type": "code",
   "execution_count": 34,
   "metadata": {},
   "outputs": [
    {
     "data": {
      "text/plain": [
       "{'CreditScore': 597,\n",
       " 'Geography': 'Germany',\n",
       " 'Gender': 'Female',\n",
       " 'Age': 35,\n",
       " 'Tenure': 8,\n",
       " 'Balance': 131101.04,\n",
       " 'NumOfProducts': 1,\n",
       " 'HasCrCard': 1,\n",
       " 'IsActiveMember': 1,\n",
       " 'EstimatedSalary': 192852.67}"
      ]
     },
     "execution_count": 34,
     "metadata": {},
     "output_type": "execute_result"
    }
   ],
   "source": [
    "new_data = pd.read_csv(data_filepath)\n",
    "\n",
    "ckey = 0\n",
    "raw_payload = new_data.loc[ckey].to_dict()\n",
    "target = raw_payload.pop('Exited')\n",
    "\n",
    "raw_payload"
   ]
  },
  {
   "cell_type": "code",
   "execution_count": 35,
   "metadata": {},
   "outputs": [],
   "source": [
    "with open('dummy_column_mapper.json') as fin:\n",
    "    dummy_column_mapper = json.load(fin)\n",
    "    \n",
    "with open('scaler_info.json') as fin:\n",
    "    scaler_info = json.load(fin)\n",
    "    \n",
    "with open('col_order.json') as fin:\n",
    "    col_order = json.load(fin)\n",
    "    \n",
    "payload = dict(raw_payload)\n",
    "for column, dummy_columns in dummy_column_mapper.items():\n",
    "    for dummy_column in dummy_columns:\n",
    "        payload[dummy_column] = 0\n",
    "    if column in payload:\n",
    "        column_val = payload.pop(column)\n",
    "        target_column = f'{column}_{column_val}'\n",
    "        payload[target_column] = 1\n",
    "        \n",
    "for key, scaler_params in scaler_info.items():\n",
    "    if key in payload:\n",
    "        payload[key] = (payload[key] - scaler_params['mean'])/scaler_params['std']\n",
    "    else:\n",
    "        payload[key] = scaler_params['mean']\n",
    "        \n",
    "ordered_payload = {}\n",
    "for col in col_order:\n",
    "    ordered_payload[col] = payload[col]\n",
    "    \n",
    "prediction = int(gclf.predict(np.array(list(ordered_payload.values())).reshape(1, -1)))"
   ]
  },
  {
   "cell_type": "code",
   "execution_count": 36,
   "metadata": {},
   "outputs": [
    {
     "data": {
      "text/plain": [
       "0"
      ]
     },
     "execution_count": 36,
     "metadata": {},
     "output_type": "execute_result"
    }
   ],
   "source": [
    "prediction"
   ]
  },
  {
   "cell_type": "code",
   "execution_count": 37,
   "metadata": {},
   "outputs": [],
   "source": [
    "import requests"
   ]
  },
  {
   "cell_type": "code",
   "execution_count": 38,
   "metadata": {},
   "outputs": [],
   "source": [
    "base_endpoint = 'https://msba-azure-deployment.azurewebsites.net/'"
   ]
  },
  {
   "cell_type": "code",
   "execution_count": 39,
   "metadata": {},
   "outputs": [
    {
     "data": {
      "text/plain": [
       "'App is Healthy'"
      ]
     },
     "execution_count": 39,
     "metadata": {},
     "output_type": "execute_result"
    }
   ],
   "source": [
    "r = requests.get(base_endpoint)\n",
    "r.text"
   ]
  },
  {
   "cell_type": "code",
   "execution_count": 40,
   "metadata": {},
   "outputs": [],
   "source": [
    "predict_endpoint = 'https://msba-azure-deployment.azurewebsites.net/predict'"
   ]
  },
  {
   "cell_type": "code",
   "execution_count": 41,
   "metadata": {},
   "outputs": [
    {
     "data": {
      "text/plain": [
       "0"
      ]
     },
     "execution_count": 41,
     "metadata": {},
     "output_type": "execute_result"
    }
   ],
   "source": [
    "r = requests.post(predict_endpoint, json=raw_payload)\n",
    "int(r.text)"
   ]
  },
  {
   "cell_type": "code",
   "execution_count": 42,
   "metadata": {},
   "outputs": [
    {
     "name": "stdout",
     "output_type": "stream",
     "text": [
      "Instance 0: actual->0, prediction->0. Correct!!!\n",
      "Instance 1: actual->1, prediction->0. \n",
      "Instance 2: actual->0, prediction->0. Correct!!!\n",
      "Instance 3: actual->0, prediction->0. Correct!!!\n",
      "Instance 4: actual->0, prediction->0. Correct!!!\n",
      "Instance 5: actual->1, prediction->1. Correct!!!\n",
      "Instance 6: actual->0, prediction->0. Correct!!!\n",
      "Instance 7: actual->0, prediction->0. Correct!!!\n",
      "Instance 8: actual->1, prediction->0. \n",
      "Instance 9: actual->1, prediction->1. Correct!!!\n",
      "Instance 10: actual->0, prediction->0. Correct!!!\n",
      "Instance 11: actual->0, prediction->0. Correct!!!\n",
      "Instance 12: actual->0, prediction->0. Correct!!!\n",
      "Instance 13: actual->0, prediction->0. Correct!!!\n",
      "Instance 14: actual->1, prediction->1. Correct!!!\n",
      "Instance 15: actual->1, prediction->0. \n",
      "Instance 16: actual->0, prediction->0. Correct!!!\n",
      "Instance 17: actual->0, prediction->0. Correct!!!\n",
      "Instance 18: actual->0, prediction->0. Correct!!!\n",
      "Instance 19: actual->0, prediction->0. Correct!!!\n",
      "Instance 20: actual->0, prediction->0. Correct!!!\n",
      "Instance 21: actual->0, prediction->0. Correct!!!\n",
      "Instance 22: actual->0, prediction->0. Correct!!!\n",
      "Instance 23: actual->0, prediction->0. Correct!!!\n",
      "Instance 24: actual->0, prediction->0. Correct!!!\n",
      "Instance 25: actual->0, prediction->0. Correct!!!\n",
      "Instance 26: actual->0, prediction->0. Correct!!!\n",
      "Instance 27: actual->0, prediction->0. Correct!!!\n",
      "Instance 28: actual->0, prediction->0. Correct!!!\n",
      "Instance 29: actual->0, prediction->0. Correct!!!\n",
      "Instance 30: actual->0, prediction->0. Correct!!!\n",
      "Instance 31: actual->1, prediction->0. \n",
      "Instance 32: actual->0, prediction->0. Correct!!!\n",
      "Instance 33: actual->0, prediction->0. Correct!!!\n",
      "Instance 34: actual->0, prediction->0. Correct!!!\n",
      "Instance 35: actual->0, prediction->0. Correct!!!\n",
      "Instance 36: actual->0, prediction->0. Correct!!!\n",
      "Instance 37: actual->0, prediction->0. Correct!!!\n",
      "Instance 38: actual->0, prediction->0. Correct!!!\n",
      "Instance 39: actual->0, prediction->0. Correct!!!\n",
      "Instance 40: actual->0, prediction->0. Correct!!!\n",
      "Instance 41: actual->1, prediction->0. \n",
      "Instance 42: actual->1, prediction->0. \n",
      "Instance 43: actual->0, prediction->0. Correct!!!\n",
      "Instance 44: actual->0, prediction->0. Correct!!!\n",
      "Instance 45: actual->0, prediction->0. Correct!!!\n",
      "Instance 46: actual->0, prediction->0. Correct!!!\n",
      "Instance 47: actual->0, prediction->0. Correct!!!\n",
      "Instance 48: actual->0, prediction->0. Correct!!!\n",
      "Instance 49: actual->0, prediction->0. Correct!!!\n",
      "Instance 50: actual->1, prediction->1. Correct!!!\n",
      "Instance 51: actual->0, prediction->0. Correct!!!\n",
      "Instance 52: actual->0, prediction->0. Correct!!!\n",
      "Instance 53: actual->0, prediction->0. Correct!!!\n",
      "Instance 54: actual->0, prediction->0. Correct!!!\n",
      "Instance 55: actual->0, prediction->0. Correct!!!\n",
      "Instance 56: actual->0, prediction->0. Correct!!!\n",
      "Instance 57: actual->0, prediction->0. Correct!!!\n",
      "Instance 58: actual->1, prediction->0. \n",
      "Instance 59: actual->1, prediction->0. \n",
      "Instance 60: actual->0, prediction->0. Correct!!!\n",
      "Instance 61: actual->0, prediction->0. Correct!!!\n",
      "Instance 62: actual->0, prediction->0. Correct!!!\n",
      "Instance 63: actual->1, prediction->0. \n",
      "Instance 64: actual->1, prediction->1. Correct!!!\n",
      "Instance 65: actual->1, prediction->1. Correct!!!\n",
      "Instance 66: actual->0, prediction->0. Correct!!!\n",
      "Instance 67: actual->0, prediction->0. Correct!!!\n",
      "Instance 68: actual->0, prediction->0. Correct!!!\n",
      "Instance 69: actual->1, prediction->1. Correct!!!\n",
      "Instance 70: actual->0, prediction->0. Correct!!!\n",
      "Instance 71: actual->0, prediction->0. Correct!!!\n",
      "Instance 72: actual->0, prediction->0. Correct!!!\n",
      "Instance 73: actual->1, prediction->1. Correct!!!\n",
      "Instance 74: actual->1, prediction->0. \n",
      "Instance 75: actual->0, prediction->0. Correct!!!\n",
      "Instance 76: actual->1, prediction->1. Correct!!!\n",
      "Instance 77: actual->0, prediction->0. Correct!!!\n",
      "Instance 78: actual->0, prediction->0. Correct!!!\n",
      "Instance 79: actual->0, prediction->0. Correct!!!\n",
      "Instance 80: actual->1, prediction->1. Correct!!!\n",
      "Instance 81: actual->1, prediction->0. \n",
      "Instance 82: actual->0, prediction->0. Correct!!!\n",
      "Instance 83: actual->0, prediction->0. Correct!!!\n",
      "Instance 84: actual->1, prediction->1. Correct!!!\n",
      "Instance 85: actual->0, prediction->0. Correct!!!\n",
      "Instance 86: actual->0, prediction->0. Correct!!!\n",
      "Instance 87: actual->0, prediction->0. Correct!!!\n",
      "Instance 88: actual->1, prediction->1. Correct!!!\n",
      "Instance 89: actual->0, prediction->0. Correct!!!\n",
      "Instance 90: actual->0, prediction->0. Correct!!!\n",
      "Instance 91: actual->0, prediction->0. Correct!!!\n",
      "Instance 92: actual->0, prediction->0. Correct!!!\n",
      "Instance 93: actual->1, prediction->1. Correct!!!\n",
      "Instance 94: actual->0, prediction->0. Correct!!!\n",
      "Instance 95: actual->1, prediction->0. \n",
      "Instance 96: actual->0, prediction->0. Correct!!!\n",
      "Instance 97: actual->0, prediction->0. Correct!!!\n",
      "Instance 98: actual->0, prediction->0. Correct!!!\n",
      "Instance 99: actual->0, prediction->0. Correct!!!\n"
     ]
    }
   ],
   "source": [
    "new_data = pd.read_csv(data_filepath)\n",
    "\n",
    "for ckey in new_data.index.tolist()[:100]:\n",
    "    raw_payload = new_data.loc[ckey].to_dict()\n",
    "    target = raw_payload.pop('Exited')\n",
    "    \n",
    "    r = requests.post(predict_endpoint, json=raw_payload)\n",
    "    prediction = int(r.text)\n",
    "    if prediction == target:\n",
    "        correct_statement = 'Correct!!!'\n",
    "    else:\n",
    "        correct_statement = ''\n",
    "\n",
    "    print(f'Instance {ckey}: actual->{target}, prediction->{prediction}. {correct_statement}')"
   ]
  },
  {
   "cell_type": "code",
   "execution_count": 44,
   "metadata": {},
   "outputs": [],
   "source": [
    "import matplotlib.pyplot as plt"
   ]
  },
  {
   "cell_type": "code",
   "execution_count": 45,
   "metadata": {},
   "outputs": [
    {
     "data": {
      "image/png": "[encoded data removed]",
      "text/plain": [
       "<Figure size 432x288 with 2 Axes>"
      ]
     },
     "metadata": {
      "needs_background": "light"
     },
     "output_type": "display_data"
    }
   ],
   "source": [
    "predictions = gclf.predict(X_test)\n",
    "cm = confusion_matrix(y_test, predictions, labels=gclf.classes_)\n",
    "disp = ConfusionMatrixDisplay(\n",
    "    confusion_matrix=cm,\n",
    "    display_labels=gclf.classes_,\n",
    ")\n",
    "disp.plot()\n",
    "plt.show()"
   ]
  },
  {
   "cell_type": "code",
   "execution_count": 46,
   "metadata": {},
   "outputs": [
    {
     "data": {
      "text/plain": [
       "2454"
      ]
     },
     "execution_count": 46,
     "metadata": {},
     "output_type": "execute_result"
    }
   ],
   "source": [
    "2243+211"
   ]
  },
  {
   "cell_type": "code",
   "execution_count": 47,
   "metadata": {},
   "outputs": [
    {
     "data": {
      "text/plain": [
       "537"
      ]
     },
     "execution_count": 47,
     "metadata": {},
     "output_type": "execute_result"
    }
   ],
   "source": [
    "420+117"
   ]
  },
  {
   "cell_type": "code",
   "execution_count": 48,
   "metadata": {},
   "outputs": [
    {
     "data": {
      "text/plain": [
       "0.8204613841524574"
      ]
     },
     "execution_count": 48,
     "metadata": {},
     "output_type": "execute_result"
    }
   ],
   "source": [
    "2454/2991"
   ]
  },
  {
   "cell_type": "code",
   "execution_count": null,
   "metadata": {},
   "outputs": [],
   "source": []
  }
 ],
 "metadata": {
  "kernelspec": {
   "display_name": "Python 3 (ipykernel)",
   "language": "python",
   "name": "python3"
  },
  "language_info": {
   "codemirror_mode": {
    "name": "ipython",
    "version": 3
   },
   "file_extension": ".py",
   "mimetype": "text/x-python",
   "name": "python",
   "nbconvert_exporter": "python",
   "pygments_lexer": "ipython3",
   "version": "3.8.12"
  }
 },
 "nbformat": 4,
 "nbformat_minor": 4
}
